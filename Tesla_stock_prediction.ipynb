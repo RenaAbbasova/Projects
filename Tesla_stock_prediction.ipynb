{
  "nbformat": 4,
  "nbformat_minor": 0,
  "metadata": {
    "colab": {
      "private_outputs": true,
      "provenance": [],
      "mount_file_id": "1ZKo-M8mrnndZifKXklBp1rLDbqfdYGsp",
      "authorship_tag": "ABX9TyMIm1Tx2oOc3gK1K3FHr9Ue",
      "include_colab_link": true
    },
    "kernelspec": {
      "name": "python3",
      "display_name": "Python 3"
    },
    "language_info": {
      "name": "python"
    }
  },
  "cells": [
    {
      "cell_type": "markdown",
      "metadata": {
        "id": "view-in-github",
        "colab_type": "text"
      },
      "source": [
        "<a href=\"https://colab.research.google.com/github/RenaAbbasova/Projects/blob/master/Tesla_stock_prediction.ipynb\" target=\"_parent\"><img src=\"https://colab.research.google.com/assets/colab-badge.svg\" alt=\"Open In Colab\"/></a>"
      ]
    },
    {
      "cell_type": "markdown",
      "source": [
        "\n",
        "Problem Statement and Agenda:\n",
        "\n",
        "One of the applications of Time Series Forecasting is to predict opening stock prices, closing stock prices, and the volume of stocks to be traded, among others. In this dataset, we aim to forecast the future behavior of the stock market, focusing on the average stock price data of Tesla spanning from 2010 to 2024.\n",
        "\n",
        "For this case study, we will divide our data into training and test sets, build our models on the training data, forecast for the test data timestamps, and then evaluate using the Root Mean Squared Error (RMSE) model evaluation metric.\n",
        "\n",
        "The following topics will be covered in this case study:\n",
        "\n",
        "Exploratory Data Analysis\n",
        "ARIMA/SARIMA models (with and without exogenous variables)\n",
        "Facebook Prophet Model\n",
        "LSTM Model (Deep Learning Model)\n"
      ],
      "metadata": {
        "id": "kcKbeuWiCsft"
      }
    },
    {
      "cell_type": "markdown",
      "source": [
        "# Import Libraries"
      ],
      "metadata": {
        "id": "SGPS9-sUM7Dd"
      }
    },
    {
      "cell_type": "code",
      "execution_count": null,
      "metadata": {
        "id": "59IGCV_C_Hm_"
      },
      "outputs": [],
      "source": [
        "import pandas as pd\n",
        "import numpy as np\n",
        "import matplotlib.pyplot as plt\n",
        "import seaborn as sns\n",
        "import os\n",
        "import warnings\n",
        "warnings.filterwarnings('ignore')\n",
        "from datetime import datetime\n",
        "sns.set()\n",
        "%matplotlib inline\n",
        "from pandas import Series\n",
        "from numpy import log\n",
        "import plotly.express as px # high level interface\n",
        "import plotly.graph_objects as go # lower level interface"
      ]
    },
    {
      "cell_type": "code",
      "source": [
        "# read the data\n",
        "data=pd.read_excel('/content/drive/MyDrive/data/TESLA.xlsx')"
      ],
      "metadata": {
        "id": "G6Ay2cjO_OwQ"
      },
      "execution_count": null,
      "outputs": []
    },
    {
      "cell_type": "code",
      "source": [
        "data"
      ],
      "metadata": {
        "id": "VgB2EShr_agv"
      },
      "execution_count": null,
      "outputs": []
    },
    {
      "cell_type": "code",
      "source": [
        "data1=data.copy()"
      ],
      "metadata": {
        "id": "8ftlkA8aVs8G"
      },
      "execution_count": null,
      "outputs": []
    },
    {
      "cell_type": "code",
      "source": [
        "data1.set_index('Date',inplace=True)"
      ],
      "metadata": {
        "id": "9zQ6ngvUVzlV"
      },
      "execution_count": null,
      "outputs": []
    },
    {
      "cell_type": "code",
      "source": [
        "data1.head()"
      ],
      "metadata": {
        "id": "hqtAlLBrV-kN"
      },
      "execution_count": null,
      "outputs": []
    },
    {
      "cell_type": "code",
      "source": [
        "df = data.copy()"
      ],
      "metadata": {
        "id": "WbRxIbdG_bT3"
      },
      "execution_count": null,
      "outputs": []
    },
    {
      "cell_type": "markdown",
      "source": [
        "#EDA"
      ],
      "metadata": {
        "id": "GD50Kb-BUCmX"
      }
    },
    {
      "cell_type": "code",
      "source": [
        "df.info()"
      ],
      "metadata": {
        "id": "MmWr5XgdNFzW"
      },
      "execution_count": null,
      "outputs": []
    },
    {
      "cell_type": "code",
      "source": [
        "df.duplicated().sum()"
      ],
      "metadata": {
        "id": "ZmUfwV5ANmZh"
      },
      "execution_count": null,
      "outputs": []
    },
    {
      "cell_type": "code",
      "source": [
        "df.isnull().sum()"
      ],
      "metadata": {
        "id": "Rgeaz5WINyJ6"
      },
      "execution_count": null,
      "outputs": []
    },
    {
      "cell_type": "code",
      "source": [
        "df.columns"
      ],
      "metadata": {
        "id": "EHPO5Wm2N27W"
      },
      "execution_count": null,
      "outputs": []
    },
    {
      "cell_type": "markdown",
      "source": [],
      "metadata": {
        "id": "yp4xmyKyOKiR"
      }
    },
    {
      "cell_type": "code",
      "source": [
        "# there is not duplicated and  null values\n",
        "# we going to keep only 'Date', 'Open', 'High', 'Low', 'Close', 'Volume', 'VWAP' variables\n",
        "\n",
        "df.drop(['Adj Close'], axis=1, inplace=True)"
      ],
      "metadata": {
        "id": "ZsgkCrmgN7HT"
      },
      "execution_count": null,
      "outputs": []
    },
    {
      "cell_type": "code",
      "source": [
        "df.head()"
      ],
      "metadata": {
        "id": "ZLW-IP-QObtV"
      },
      "execution_count": null,
      "outputs": []
    },
    {
      "cell_type": "markdown",
      "source": [
        "# DURBIN - WATSON TEST"
      ],
      "metadata": {
        "id": "AMbi_jptPw2M"
      }
    },
    {
      "cell_type": "code",
      "source": [
        " #Durbin-Watson test going to be applied to residuals from time series models to diagnose autocorrelation."
      ],
      "metadata": {
        "id": "H0XaLDkuOdJU"
      },
      "execution_count": null,
      "outputs": []
    },
    {
      "cell_type": "code",
      "source": [
        "import statsmodels.api as sm\n",
        "print(sm.stats.durbin_watson(df['VWAP']))\n",
        "print(sm.stats.durbin_watson(df['Open']))\n",
        "print(sm.stats.durbin_watson(df['High']))\n",
        "print(sm.stats.durbin_watson(df['Low']))\n",
        "print(sm.stats.durbin_watson(df['Close']))\n",
        "print(sm.stats.durbin_watson(df['Volume']))"
      ],
      "metadata": {
        "id": "1R3XCh92P5ZX"
      },
      "execution_count": null,
      "outputs": []
    },
    {
      "cell_type": "code",
      "source": [
        "# There is strong evidence of positive autocorrelation in the residuals of the 'VWAP', 'Open', 'High',\n",
        "# 'Low', and 'Close' variables."
      ],
      "metadata": {
        "id": "Rc6yykrcQe1a"
      },
      "execution_count": null,
      "outputs": []
    },
    {
      "cell_type": "code",
      "source": [
        "df.describe()"
      ],
      "metadata": {
        "id": "OIgfB44JR-up"
      },
      "execution_count": null,
      "outputs": []
    },
    {
      "cell_type": "code",
      "source": [
        "df.nunique()"
      ],
      "metadata": {
        "id": "KELTTBjxSCGp"
      },
      "execution_count": null,
      "outputs": []
    },
    {
      "cell_type": "code",
      "source": [
        "start_date = df['Date'].min()\n",
        "end_date = df['Date'].max()\n",
        "print(start_date)\n",
        "print(end_date)"
      ],
      "metadata": {
        "id": "qzWnD2UHSUEb"
      },
      "execution_count": null,
      "outputs": []
    },
    {
      "cell_type": "code",
      "source": [
        "df.shape"
      ],
      "metadata": {
        "id": "cfSp9rkDSrsx"
      },
      "execution_count": null,
      "outputs": []
    },
    {
      "cell_type": "code",
      "source": [
        "# check frequency of VWAP variable\n",
        "df.VWAP.plot(figsize=(20,5),title='VWAP')\n",
        "plt.show()"
      ],
      "metadata": {
        "id": "1ZDebSy5Ug2U"
      },
      "execution_count": null,
      "outputs": []
    },
    {
      "cell_type": "code",
      "source": [
        "plt.figure(figsize=(15,8))\n",
        "sns.boxplot(x=data1.index.year, y =df['VWAP'],palette='pastel')\n",
        "plt.grid()"
      ],
      "metadata": {
        "id": "LWvzRMPOTJ7V"
      },
      "execution_count": null,
      "outputs": []
    },
    {
      "cell_type": "code",
      "source": [
        "# We can observe from the graph how the volume-weighted average price has been increasing since 2010,\n",
        "# with the best year for selling being 2021."
      ],
      "metadata": {
        "id": "7IBlQehoVWrV"
      },
      "execution_count": null,
      "outputs": []
    },
    {
      "cell_type": "code",
      "source": [
        "plt.figure(figsize=(15,8))\n",
        "sns.boxplot(x=data1.index.month_name(), y =df['VWAP'],palette='pastel')\n",
        "plt.grid()"
      ],
      "metadata": {
        "id": "BAjtJN-mXOMy"
      },
      "execution_count": null,
      "outputs": []
    },
    {
      "cell_type": "code",
      "source": [
        "# Selling in November was good, as the prices were high.\n",
        "# For buying in all other months, the prices remained similar."
      ],
      "metadata": {
        "id": "eAd8JfBNXVu5"
      },
      "execution_count": null,
      "outputs": []
    },
    {
      "cell_type": "code",
      "source": [
        "from statsmodels.tsa.seasonal import seasonal_decompose\n"
      ],
      "metadata": {
        "id": "vIMkXPsSZDAB"
      },
      "execution_count": null,
      "outputs": []
    },
    {
      "cell_type": "code",
      "source": [
        "# Decompose the time series into trend, seasonal, cyclical, and irregular components.\n",
        "decompose = seasonal_decompose(df['VWAP'], model='additive', period=365)\n",
        "\n",
        "# Extract the components\n",
        "trend = decompose.trend\n",
        "seasonal = decompose.seasonal\n",
        "cyclical = df['VWAP']  - trend - seasonal\n",
        "irregular = decompose.resid"
      ],
      "metadata": {
        "id": "sscCJCwvVHDH"
      },
      "execution_count": null,
      "outputs": []
    },
    {
      "cell_type": "code",
      "source": [
        "# Plot the components\n",
        "plt.subplot(411)\n",
        "plt.plot(df['VWAP'], label='Original')\n",
        "plt.legend(loc='upper left')\n",
        "plt.subplot(412)\n",
        "plt.plot(trend, label='Trend')\n",
        "plt.legend(loc='upper left')\n",
        "plt.subplot(413)\n",
        "plt.plot(seasonal, label='Seasonality')\n",
        "plt.legend(loc='upper left')\n",
        "plt.subplot(414)\n",
        "plt.plot(irregular, label='Residuals')\n",
        "plt.legend(loc='upper left')\n",
        "plt.tight_layout()\n",
        "plt.show()"
      ],
      "metadata": {
        "id": "Z_FZU7f_U2DF"
      },
      "execution_count": null,
      "outputs": []
    },
    {
      "cell_type": "markdown",
      "source": [
        "# Q-Q plot"
      ],
      "metadata": {
        "id": "QsnbnNCLaeGi"
      }
    },
    {
      "cell_type": "code",
      "source": [
        "import scipy.stats\n",
        "import pylab"
      ],
      "metadata": {
        "id": "9-fGPF2QZC9a"
      },
      "execution_count": null,
      "outputs": []
    },
    {
      "cell_type": "code",
      "source": [
        "scipy.stats.probplot(df.VWAP, plot=pylab)\n",
        "plt.title(\"QQ plot for Volume Waighted Price Average\")\n",
        "pylab.show()"
      ],
      "metadata": {
        "id": "eSZOZuuQZC6i"
      },
      "execution_count": null,
      "outputs": []
    },
    {
      "cell_type": "code",
      "source": [
        "import scipy.stats as stats\n",
        "\n",
        "# Replace 'desired_distribution' with the name of the distribution you want to test against (e.g., 'expon', 'gamma', 'uniform', etc.)\n",
        "stats.probplot(df['VWAP'], dist='expon', plot=plt)\n",
        "plt.title(\"QQ plot for Volume Weighted Price Average\")\n",
        "plt.show()\n"
      ],
      "metadata": {
        "id": "Z3P4xCPZZC00"
      },
      "execution_count": null,
      "outputs": []
    },
    {
      "cell_type": "code",
      "source": [
        "trend=decompose.trend\n",
        "seasonality=decompose.seasonal\n",
        "residual=decompose.resid\n",
        "\n",
        "print('Trend', '\\n', trend.head(12), '\\n')\n",
        "\n",
        "print('Seasonality', '\\n', seasonality.head(12), '\\n')\n",
        "\n",
        "print('Residual', '\\n', residual.head(12), '\\n')"
      ],
      "metadata": {
        "id": "e-Dq-zxDZCun"
      },
      "execution_count": null,
      "outputs": []
    },
    {
      "cell_type": "code",
      "source": [
        "# Creating new column\n",
        "df['Time_Stamp']=pd.DataFrame(df, columns=['Date'])\n",
        "df['Time_Stamp'] = pd.to_datetime(df['Time_Stamp'])\n",
        "# set index column 'Time_Stamp'\n",
        "df_final = df.set_index('Time_Stamp')\n"
      ],
      "metadata": {
        "id": "N7RrDufwZChp"
      },
      "execution_count": null,
      "outputs": []
    },
    {
      "cell_type": "code",
      "source": [
        "df_final.head()"
      ],
      "metadata": {
        "id": "_okRONjff4Kt"
      },
      "execution_count": null,
      "outputs": []
    },
    {
      "cell_type": "markdown",
      "source": [
        "# Spit the data into training and test before building Time Series Forecasting"
      ],
      "metadata": {
        "id": "1UaiReL3kqsa"
      }
    },
    {
      "cell_type": "code",
      "source": [
        "df_final['Month'] = df_final.index.month\n",
        "df_final['Year'] = df_final.index.year"
      ],
      "metadata": {
        "id": "9Et0ApJodwk0"
      },
      "execution_count": null,
      "outputs": []
    },
    {
      "cell_type": "code",
      "source": [
        "df_final.head()"
      ],
      "metadata": {
        "id": "Ud5rfswBdwhL"
      },
      "execution_count": null,
      "outputs": []
    },
    {
      "cell_type": "code",
      "source": [
        "df_final.index.max()"
      ],
      "metadata": {
        "id": "cbg3IkE8dwcv"
      },
      "execution_count": null,
      "outputs": []
    },
    {
      "cell_type": "code",
      "source": [
        "df_final.index.min()"
      ],
      "metadata": {
        "id": "NDBOCc_OdwY2"
      },
      "execution_count": null,
      "outputs": []
    },
    {
      "cell_type": "code",
      "source": [
        "# split into training and tesing data\n",
        "train_df = df_final[pd.to_datetime(df_final['Date']) < pd.to_datetime('2019-10-04')]\n",
        "\n",
        "test_df = df_final[pd.to_datetime(df_final['Date']) >= pd.to_datetime('2019-10-04')]"
      ],
      "metadata": {
        "id": "9Mqi7VehdwUs"
      },
      "execution_count": null,
      "outputs": []
    },
    {
      "cell_type": "code",
      "source": [
        "train_df.shape"
      ],
      "metadata": {
        "id": "EUZ7bEtwdwQh"
      },
      "execution_count": null,
      "outputs": []
    },
    {
      "cell_type": "code",
      "source": [
        "test_df.shape"
      ],
      "metadata": {
        "id": "vAv0RoF8dwLW"
      },
      "execution_count": null,
      "outputs": []
    },
    {
      "cell_type": "code",
      "source": [
        "train_final = train_df[['VWAP']]\n",
        "test_final = test_df[['VWAP']]"
      ],
      "metadata": {
        "id": "XuKKDK1tdwEy"
      },
      "execution_count": null,
      "outputs": []
    },
    {
      "cell_type": "code",
      "source": [
        "train_final.head()"
      ],
      "metadata": {
        "id": "SPq4zUiLdwA6"
      },
      "execution_count": null,
      "outputs": []
    },
    {
      "cell_type": "code",
      "source": [
        "test_final.head()"
      ],
      "metadata": {
        "id": "G07mKinsn5cB"
      },
      "execution_count": null,
      "outputs": []
    },
    {
      "cell_type": "markdown",
      "source": [
        "# Augmented Dickey Fuller Test"
      ],
      "metadata": {
        "id": "NxjlkXrgpGgM"
      }
    },
    {
      "cell_type": "code",
      "source": [
        "# To check time series stationary or not\n",
        "\n",
        "from statsmodels.tsa.stattools import adfuller"
      ],
      "metadata": {
        "id": "_nlT9TMln8b3"
      },
      "execution_count": null,
      "outputs": []
    },
    {
      "cell_type": "code",
      "source": [
        "adfuller(train_final['VWAP'])"
      ],
      "metadata": {
        "id": "4kcD5lQvpfNc"
      },
      "execution_count": null,
      "outputs": []
    },
    {
      "cell_type": "code",
      "source": [
        "def check_adftest(timeseries):\n",
        "  result=adfuller(timeseries)\n",
        "  print('Augmented Dickey Fuller Test')\n",
        "  labels = ['ADF test', 'P-value','#Lags', 'No of observation']\n",
        "\n",
        "  for i, j in zip(result,labels):\n",
        "    print(j + '------->'+str(i))\n",
        "\n",
        "  if result[1] <= 0.05:\n",
        "    print('Strong evidence against Null Hypothesis and my time series is Stationary')\n",
        "\n",
        "  else:\n",
        "    print('Weak Evidence against Null Hypothesis and my time series is Non-Stationary')"
      ],
      "metadata": {
        "id": "j9bzbPCRpxwa"
      },
      "execution_count": null,
      "outputs": []
    },
    {
      "cell_type": "code",
      "source": [
        "check_adftest(train_final['VWAP'])"
      ],
      "metadata": {
        "id": "CPLt2fyXqP7N"
      },
      "execution_count": null,
      "outputs": []
    },
    {
      "cell_type": "code",
      "source": [
        "# as time series is non - stationary\n",
        "# we aply Differencing technique"
      ],
      "metadata": {
        "id": "DshYR5tdrYa2"
      },
      "execution_count": null,
      "outputs": []
    },
    {
      "cell_type": "code",
      "source": [
        "# Difference the time series and plot\n",
        "diff_data = train_final['VWAP'].diff().dropna()\n",
        "plt.plot(diff_data)\n",
        "plt.title('Differenced Time Series')\n",
        "plt.show()\n",
        "\n",
        "\n"
      ],
      "metadata": {
        "id": "si7uU8t2qURW"
      },
      "execution_count": null,
      "outputs": []
    },
    {
      "cell_type": "code",
      "source": [
        "check_adftest(diff_data)"
      ],
      "metadata": {
        "id": "Y1x9noZXsMdy"
      },
      "execution_count": null,
      "outputs": []
    },
    {
      "cell_type": "code",
      "source": [
        "# This code generates combinations of parameters for a SARIMA (Seasonal Autoregressive Integrated Moving Average) model.\n",
        "# SARIMA models are extensions of the ARIMA model that include seasonal components."
      ],
      "metadata": {
        "id": "YU4adnigtuMt"
      },
      "execution_count": null,
      "outputs": []
    },
    {
      "cell_type": "code",
      "source": [
        "import itertools\n",
        "p = q = range(0,3)\n",
        "\n",
        "d = range(0,1)\n",
        "\n",
        "pdq = list(itertools.product(p, d, q)) # Trend\n",
        "\n",
        "model_pdq = [(x[0], x[1], x[2], 5) for x in list(itertools.product(p,d,q))] # Seasonality\n",
        "\n",
        "print('Example of combination for model...........')\n",
        "print('Model : {}{}'.format(pdq[1],model_pdq[1]))\n",
        "print('Model : {}{}'.format(pdq[0],model_pdq[0]))\n",
        "print('Model : {}{}'.format(pdq[2],model_pdq[2]))\n",
        "print('Model : {}{}'.format(pdq[1],model_pdq[2]))"
      ],
      "metadata": {
        "id": "xwYPf2A6sTZj"
      },
      "execution_count": null,
      "outputs": []
    },
    {
      "cell_type": "code",
      "source": [],
      "metadata": {
        "id": "upzYyRIaJJoO"
      },
      "execution_count": null,
      "outputs": []
    },
    {
      "cell_type": "markdown",
      "source": [
        "# Build SARIMAX model - Seasonality Autoregressive integrated moving average with external factor"
      ],
      "metadata": {
        "id": "ti8ADajHuSTo"
      }
    },
    {
      "cell_type": "markdown",
      "source": [
        "\n",
        "SARIMAX is a statistical model used for time series forecasting. It's an extension of the ARIMA model that incorporates additional features to handle seasonality and exogenous variables (variables external to the model that can influence the time series being analyzed)."
      ],
      "metadata": {
        "id": "694i8c0UF21R"
      }
    },
    {
      "cell_type": "code",
      "source": [
        "ex_train =  train_df[['Open', 'High', 'Low', 'Close', 'Volume']]\n",
        "ex_test = test_df[['Open', 'High', 'Low', 'Close', 'Volume']]"
      ],
      "metadata": {
        "id": "M_lFlKvFuR4B"
      },
      "execution_count": null,
      "outputs": []
    },
    {
      "cell_type": "code",
      "source": [
        "ex_train.head()"
      ],
      "metadata": {
        "id": "HZtwHszFwi9F"
      },
      "execution_count": null,
      "outputs": []
    },
    {
      "cell_type": "code",
      "source": [
        "df_obj=pd.DataFrame(columns=['param','seasonal','AIC'])\n",
        "df_obj"
      ],
      "metadata": {
        "id": "7N0hRnoNwnIq"
      },
      "execution_count": null,
      "outputs": []
    },
    {
      "cell_type": "code",
      "source": [
        "# Lets build the model\n",
        "import statsmodels.api as sm\n",
        "from statsmodels.tsa.arima_model import ARIMA\n",
        "\n",
        "\n",
        "# Initialize an empty list to store results\n",
        "results = []\n",
        "\n",
        "\n",
        "for param in pdq:\n",
        "  for param_seasonal in model_pdq:\n",
        "    model = sm.tsa.statespace.SARIMAX(train_final['VWAP'], exog=ex_train, order=param, seasonal_order=param_seasonal,\n",
        "                                      enforce_stationarity=False, enforce_invertibility=False)\n",
        "    result_SARIMAX = model.fit()\n",
        "    print('SARIMAX{}{} - AIC:{}'.format(param,param_seasonal,result_SARIMAX.aic))\n",
        "\n",
        "\n",
        "# Append the results to the list\n",
        "    results.append({'param': param, 'seasonal': param_seasonal, 'AIC': result_SARIMAX.aic})\n",
        "\n",
        "# Convert the list of dictionaries to a DataFrame\n",
        "df_obj = pd.DataFrame(results)\n",
        "    #df_obj=df_obj.append({'param': param, 'seasonal': param_seasonal,\n",
        "                            #  'AIC': result_SARIMAX.aic}, ignore_index=True)"
      ],
      "metadata": {
        "id": "XNjb4R-tw3nt"
      },
      "execution_count": null,
      "outputs": []
    },
    {
      "cell_type": "code",
      "source": [
        "df_obj.sort_values(by=['AIC'])"
      ],
      "metadata": {
        "id": "URiR3mv3IjGq"
      },
      "execution_count": null,
      "outputs": []
    },
    {
      "cell_type": "code",
      "source": [
        "#(0, 0, 0)\t(0, 0, 0, 5)\t-47978.760521\n",
        "model = sm.tsa.statespace.SARIMAX(train_final['VWAP'], exog=ex_train, order=(0, 0, 0),\n",
        "                                   seasonal_order=(0, 0, 0, 5),\n",
        "                                   enforce_stationarity=False, enforce_invertibility=False)\n",
        "result = model.fit()\n",
        "print(result.summary())\n"
      ],
      "metadata": {
        "id": "EUfyIsutKioD"
      },
      "execution_count": null,
      "outputs": []
    },
    {
      "cell_type": "markdown",
      "source": [
        "\n",
        "##### In the SARIMAX model summary output , the 'Open' and 'Volume' variables have coefficients close to zero and p-values greater than 0.05. This indicates that these variables are not statistically significant predictors for the dependent variable ('VWAP') in the model."
      ],
      "metadata": {
        "id": "mCDYnvKnOalh"
      }
    },
    {
      "cell_type": "code",
      "source": [
        "result.plot_diagnostics(figsize=(16,8))\n",
        "plt.show()"
      ],
      "metadata": {
        "id": "8FZoE9KKIuin"
      },
      "execution_count": null,
      "outputs": []
    },
    {
      "cell_type": "code",
      "source": [
        "predict_SARIMAX = result.get_forecast(steps=len(test_df), exog=ex_test)\n",
        "predict_SARIMAX.predicted_mean"
      ],
      "metadata": {
        "id": "tTyzcmgrIxQl"
      },
      "execution_count": null,
      "outputs": []
    },
    {
      "cell_type": "code",
      "source": [
        "from sklearn.metrics import *\n",
        "import math\n",
        "from sklearn.metrics import mean_squared_error\n",
        "from math import sqrt"
      ],
      "metadata": {
        "id": "vOZOhwIbIx3Y"
      },
      "execution_count": null,
      "outputs": []
    },
    {
      "cell_type": "code",
      "source": [
        "rmse = sqrt(mean_squared_error(test_final.VWAP, predict_SARIMAX.predicted_mean, squared=False))\n",
        "print(rmse)"
      ],
      "metadata": {
        "id": "9OGHJ12GI0BI"
      },
      "execution_count": null,
      "outputs": []
    },
    {
      "cell_type": "markdown",
      "source": [
        "##### An RMSE (Root Mean Square Error) value of 0.00014617368289626304 indicates that the SARIMAX model's predictions are very close to the actual values on average."
      ],
      "metadata": {
        "id": "C7-1DevtS49Q"
      }
    },
    {
      "cell_type": "code",
      "source": [
        "plt.plot(train_final, label='Training Data')\n",
        "plt.plot(test_final, label='Test Data')\n",
        "plt.plot(test_final.index, predict_SARIMAX.predicted_mean, label='predicted Model -SARIMAX')\n",
        "plt.legend(loc='best')\n",
        "plt.grid();"
      ],
      "metadata": {
        "id": "V6iIFDOgI5jT"
      },
      "execution_count": null,
      "outputs": []
    },
    {
      "cell_type": "markdown",
      "source": [],
      "metadata": {
        "id": "8y_yF7maTDqq"
      }
    },
    {
      "cell_type": "code",
      "source": [],
      "metadata": {
        "id": "Wh1akQvBTDSs"
      },
      "execution_count": null,
      "outputs": []
    },
    {
      "cell_type": "markdown",
      "source": [
        "# Sarima Model"
      ],
      "metadata": {
        "id": "-kyriISYI9_8"
      }
    },
    {
      "cell_type": "code",
      "source": [
        "model = sm.tsa.statespace.SARIMAX(train_final['VWAP'],order=(1,1,2),\n",
        "                                   seasonal_order=(1,0,2,5),\n",
        "                                   enforce_stationarity=False, enforce_invertibility=False)\n",
        "result = model.fit()\n",
        "print(result.summary())"
      ],
      "metadata": {
        "id": "QpOI90zyI_JZ"
      },
      "execution_count": null,
      "outputs": []
    },
    {
      "cell_type": "code",
      "source": [
        "predict_SARIMA = result.get_forecast(steps=len(test_df), exog=ex_test)\n",
        "predict_SARIMA.predicted_mean"
      ],
      "metadata": {
        "id": "3zp3Q3c8JRC8"
      },
      "execution_count": null,
      "outputs": []
    },
    {
      "cell_type": "code",
      "source": [
        "rmse = sqrt(mean_squared_error(test_final.VWAP, predict_SARIMA.predicted_mean, squared=False))\n",
        "print(rmse)"
      ],
      "metadata": {
        "id": "5ACNcZUvJQ_T"
      },
      "execution_count": null,
      "outputs": []
    },
    {
      "cell_type": "code",
      "source": [
        "plt.plot(train_final, label='Training Data')\n",
        "plt.plot(test_final, label='Test Data')\n",
        "plt.plot(test_final.index, predict_SARIMAX.predicted_mean, label='predicted Model -SARIMAX')\n",
        "plt.plot(test_final.index, predict_SARIMA.predicted_mean, label='predicted Model -SARIMA')\n",
        "plt.legend(loc='best')\n",
        "plt.grid();"
      ],
      "metadata": {
        "id": "LBE7Km22JQ8s"
      },
      "execution_count": null,
      "outputs": []
    },
    {
      "cell_type": "markdown",
      "source": [
        "##### The SARIMAX model performs close to the actual values and provides satisfactory forecast accuracy, it suggests that incorporating exogenous variables has helped capture important information in our time series data."
      ],
      "metadata": {
        "id": "4aJYWhcrTVxT"
      }
    },
    {
      "cell_type": "markdown",
      "source": [
        "# LSTM Model"
      ],
      "metadata": {
        "id": "d9HXy2awf9PB"
      }
    },
    {
      "cell_type": "code",
      "source": [
        "from keras.models import Sequential\n",
        "from keras.layers import LSTM, Dense\n",
        "\n",
        "\n"
      ],
      "metadata": {
        "id": "7ctft9R5JQ5k"
      },
      "execution_count": null,
      "outputs": []
    },
    {
      "cell_type": "markdown",
      "source": [
        "## **Conclusion**\n",
        "\n",
        "In this project, we focused on predicting the VWAP using 14 year's worth of time series data. Throughout the project, we followed a systematic approach to build and evaluate time series models.\n",
        "\n",
        "We began by reading and preprocessing the data, ensuring that it was in a suitable format for analysis. We then conducted exploratory data analysis (EDA) to gain insights into the patterns, trends, and seasonality present in the data.\n",
        "\n",
        "To proceed with modeling, we first checked the stationarity of the time series. Since the data was non - stationary, we performed differencing technique.\n",
        "\n",
        "We applied Durbin-Watson test to residuals from time series models to diagnose autocorrelation.\n",
        "\n",
        "We built  models like Sarima and Sarimax. The performance of these models was evaluated based on both the p-value and root mean squared error (RMSE).\n",
        "\n",
        "After evaluating the models, we found that Sarimax model outperformed the Sarima model in terms of predictive accuracy.\n",
        "\n",
        "\n"
      ],
      "metadata": {
        "id": "K7QAyPReZs2J"
      }
    },
    {
      "cell_type": "code",
      "source": [],
      "metadata": {
        "id": "3e7ZohLkaeb1"
      },
      "execution_count": null,
      "outputs": []
    }
  ]
}