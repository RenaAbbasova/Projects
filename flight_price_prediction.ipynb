{
  "nbformat": 4,
  "nbformat_minor": 0,
  "metadata": {
    "colab": {
      "private_outputs": true,
      "provenance": [],
      "mount_file_id": "1JqIZDOEBrlNcDRCjJaEezCQ7W1_L9Mz3",
      "authorship_tag": "ABX9TyNlaC0Rqo91VhvbiKEShH64",
      "include_colab_link": true
    },
    "kernelspec": {
      "name": "python3",
      "display_name": "Python 3"
    },
    "language_info": {
      "name": "python"
    }
  },
  "cells": [
    {
      "cell_type": "markdown",
      "metadata": {
        "id": "view-in-github",
        "colab_type": "text"
      },
      "source": [
        "<a href=\"https://colab.research.google.com/github/RenaAbbasova/proyecto_rena/blob/master/flight_price_prediction.ipynb\" target=\"_parent\"><img src=\"https://colab.research.google.com/assets/colab-badge.svg\" alt=\"Open In Colab\"/></a>"
      ]
    },
    {
      "cell_type": "code",
      "source": [
        "# @title #AirLinePrice-Regression { display-mode: \"form\" }\n",
        "from google.colab import files\n",
        "from IPython.display import Image\n",
        "\n",
        "uploaded = files.upload()"
      ],
      "metadata": {
        "id": "17qUAJzUZtIm"
      },
      "execution_count": null,
      "outputs": []
    },
    {
      "cell_type": "code",
      "source": [
        "Image('/content/suhyeon-choi-tTfDMaRq-FE-unsplash (2).jpg',\n",
        "      width = 725)"
      ],
      "metadata": {
        "id": "1fki39TFaH7b"
      },
      "execution_count": null,
      "outputs": []
    },
    {
      "cell_type": "markdown",
      "source": [
        "# Import Libraries"
      ],
      "metadata": {
        "id": "WaOE6GwgMTLC"
      }
    },
    {
      "cell_type": "code",
      "execution_count": null,
      "metadata": {
        "id": "GZC45WBk6VhY"
      },
      "outputs": [],
      "source": [
        "import pandas as pd\n",
        "import numpy as np\n",
        "import matplotlib.pyplot as plt\n",
        "import seaborn as sns\n",
        "import warnings\n",
        "warnings.filterwarnings('ignore')\n",
        "from sklearn.model_selection import train_test_split\n",
        "import statsmodels.api as sm\n",
        "from scipy import stats\n",
        "import scipy\n",
        "from matplotlib.pyplot import figure\n"
      ]
    },
    {
      "cell_type": "markdown",
      "source": [
        "#FEATURES"
      ],
      "metadata": {
        "id": "pH3BvmVr_-jj"
      }
    },
    {
      "cell_type": "markdown",
      "source": [
        "The various features of the cleaned dataset are explained below:\n",
        "\n",
        "**Airline**: The name of the airline company is stored in the airline column. It is a categorical feature having 6 different airlines.\n",
        "\n",
        "**Flight**: Flight stores information regarding the plane's flight code. It is a categorical feature.\n",
        "\n",
        "**Source City**: City from which the flight takes off. It is a categorical feature having 6 unique cities.\n",
        "\n",
        "**Departure Time**: This is a derived categorical feature obtained created by grouping time periods into bins. It stores information about the departure time and have 6 unique time labels.\n",
        "\n",
        "**Stops**: A categorical feature with 3 distinct values that stores the number of stops between the source and destination cities.\n",
        "\n",
        "**Arrival Time**: This is a derived categorical feature created by grouping time intervals into bins. It has six distinct time labels and keeps information about the arrival time.\n",
        "\n",
        "**Destination City**: City where the flight will land. It is a categorical feature having 6 unique cities.\n",
        "\n",
        "**Class**: A categorical feature that contains information on seat class; it has two distinct values: Business and Economy.\n",
        "\n",
        "**Duration**: A continuous feature that displays the overall amount of time it takes to travel between cities in hours.\n",
        "\n",
        "**Days Left**: This is a derived characteristic that is calculated by subtracting the trip date by the booking date.\n",
        "\n",
        "**Price**: Target variable stores information of the ticket price."
      ],
      "metadata": {
        "id": "P2lUQjo99qY9"
      }
    },
    {
      "cell_type": "code",
      "source": [],
      "metadata": {
        "id": "tnsuA7goMh1f"
      },
      "execution_count": null,
      "outputs": []
    },
    {
      "cell_type": "markdown",
      "source": [
        "# Load and read the data"
      ],
      "metadata": {
        "id": "e86U6BM7Mic2"
      }
    },
    {
      "cell_type": "code",
      "source": [
        "data = pd.read_csv('/content/drive/MyDrive/Flight Price prediction/Flight_Price_Prediction.csv')"
      ],
      "metadata": {
        "id": "LmDVrdQ6-Op7"
      },
      "execution_count": null,
      "outputs": []
    },
    {
      "cell_type": "code",
      "source": [
        "df = data.copy()"
      ],
      "metadata": {
        "id": "QEU49gtC-O0a"
      },
      "execution_count": null,
      "outputs": []
    },
    {
      "cell_type": "code",
      "source": [
        "df.head()"
      ],
      "metadata": {
        "id": "DV2DhZpd-O9G"
      },
      "execution_count": null,
      "outputs": []
    },
    {
      "cell_type": "code",
      "source": [
        "df.shape"
      ],
      "metadata": {
        "id": "KJWyEFLR-PCX"
      },
      "execution_count": null,
      "outputs": []
    },
    {
      "cell_type": "code",
      "source": [
        "df.info()"
      ],
      "metadata": {
        "id": "EAfYi1S4-PJb"
      },
      "execution_count": null,
      "outputs": []
    },
    {
      "cell_type": "code",
      "source": [
        "# drop unnamed column\n",
        "df.drop('Unnamed: 0',axis=1,inplace=True)\n"
      ],
      "metadata": {
        "id": "oQvWVJ-D-PMZ"
      },
      "execution_count": null,
      "outputs": []
    },
    {
      "cell_type": "code",
      "source": [
        "# rename the columns\n",
        "df=df.rename(columns={'departure_time':'dep_time', 'destination_city':'des_city', 'arrival_time':'arr_time'})"
      ],
      "metadata": {
        "id": "Yxmo82W2-POy"
      },
      "execution_count": null,
      "outputs": []
    },
    {
      "cell_type": "code",
      "source": [
        "df.head()"
      ],
      "metadata": {
        "id": "Bw8D1WBJ-PRT"
      },
      "execution_count": null,
      "outputs": []
    },
    {
      "cell_type": "code",
      "source": [
        "df.shape"
      ],
      "metadata": {
        "id": "oyHPcRZQ-PTi"
      },
      "execution_count": null,
      "outputs": []
    },
    {
      "cell_type": "code",
      "source": [
        "df.columns"
      ],
      "metadata": {
        "id": "13mwPbJfEvL6"
      },
      "execution_count": null,
      "outputs": []
    },
    {
      "cell_type": "markdown",
      "source": [
        "# EDA"
      ],
      "metadata": {
        "id": "NNVp87-1MuKr"
      }
    },
    {
      "cell_type": "code",
      "source": [
        "# distplot\n",
        "ax = sns.distplot(df.price)"
      ],
      "metadata": {
        "id": "dTZLT-d_E2Cj"
      },
      "execution_count": null,
      "outputs": []
    },
    {
      "cell_type": "code",
      "source": [
        "# not normal distribution, try transformation with log, cbrt, sqrt\n",
        "ax = sns.distplot(np.cbrt(df.price))# better to use without transformation"
      ],
      "metadata": {
        "id": "Pm6REoAJFJA5"
      },
      "execution_count": null,
      "outputs": []
    },
    {
      "cell_type": "code",
      "source": [
        "# boxplot\n",
        "ax=sns.boxplot(df.price) # there is outliers"
      ],
      "metadata": {
        "id": "HMWkuE2NF1tR"
      },
      "execution_count": null,
      "outputs": []
    },
    {
      "cell_type": "code",
      "source": [
        "#df.describe()\n",
        "df.describe(include='all')"
      ],
      "metadata": {
        "id": "EU-M_7OBnWN9"
      },
      "execution_count": null,
      "outputs": []
    },
    {
      "cell_type": "code",
      "source": [
        "palette = \"Set3\"\n",
        "plt.figure(figsize=(10,4))\n",
        "sns.boxplot(df,x='airline',y='price', palette=palette)\n",
        "\n",
        "\n",
        "# Add title and labels\n",
        "plt.title('Price Distribution Across Airlines')\n",
        "plt.xlabel('Airline')\n",
        "plt.ylabel('Price')\n",
        "\n",
        "# Rotate x-axis labels for better readability if necessary\n",
        "plt.xticks(rotation=45, ha='right')\n",
        "\n",
        "# Show the plot\n",
        "plt.tight_layout()\n",
        "plt.show()"
      ],
      "metadata": {
        "id": "InLe9WiI1w9e"
      },
      "execution_count": null,
      "outputs": []
    },
    {
      "cell_type": "markdown",
      "source": [
        "#####Vistara has max price range"
      ],
      "metadata": {
        "id": "GeX8NMLP4V_3"
      }
    },
    {
      "cell_type": "code",
      "source": [
        "plt.figure(figsize=(12,4))\n",
        "sns.barplot(data=df,x='days_left'\t,y='price',  color='skyblue')\n",
        "\n",
        "# Add title and labels\n",
        "plt.title('Flight Prices by Days Left to Booking')\n",
        "plt.xlabel('Days Left to Booking')\n",
        "plt.ylabel('Price')\n",
        "\n",
        "# Show the plot\n",
        "plt.show()\n"
      ],
      "metadata": {
        "id": "k5EKhJbf5nYe"
      },
      "execution_count": null,
      "outputs": []
    },
    {
      "cell_type": "markdown",
      "source": [
        "##### We can see that the price is very high when the flight is booked 2 or 3 days prior. From 19 to 49 days, the price almost remains the same."
      ],
      "metadata": {
        "id": "xBssA1Pa7jdB"
      }
    },
    {
      "cell_type": "markdown",
      "source": [
        "###Categorical variables distribution\n",
        "\n",
        "\n",
        "\n"
      ],
      "metadata": {
        "id": "zbxnFwbFABjj"
      }
    },
    {
      "cell_type": "code",
      "source": [
        "\n",
        "\n",
        "# Get a list of categorical columns\n",
        "categorical_columns = ['airline', 'source_city', 'dep_time', 'stops', 'arr_time',\n",
        "       'des_city', 'class']\n",
        "\n",
        "# Loop through each categorical column\n",
        "for column in categorical_columns:\n",
        "    plt.figure(figsize=(8, 6))  # Adjust the figure size as needed\n",
        "\n",
        "    # Count the occurrences of each category in the column\n",
        "    category_counts = df[column].value_counts()\n",
        "\n",
        "    # Plot a pie chart for the current categorical column\n",
        "    category_counts.plot(kind='pie', autopct='%1.1f%%', startangle=140)\n",
        "\n",
        "    # Add title with the column name\n",
        "    plt.title(f'Distribution of {column}')\n",
        "    plt.ylabel('')  # Remove the y-label\n",
        "\n",
        "    plt.axis('equal')\n",
        "\n",
        "    plt.show()\n"
      ],
      "metadata": {
        "id": "6fcrdfDv5nhe"
      },
      "execution_count": null,
      "outputs": []
    },
    {
      "cell_type": "markdown",
      "source": [
        "######There is a higher distribution of Vistara Airlines and Air India, mostly from Mumbai, Delhi, and Bangalore. Morning, early-morning flights, and evening flights are more common. Most flights are sold with one stop. According to our distribution, people are likely to arrive at night, in the morning, or in the evening. The distribution of cities is mostly equal, but there is a higher percentage for Delhi, Mumbai, and Bangalore. 68.9% of Economy class tickets are sold."
      ],
      "metadata": {
        "id": "MqRk_6PiDIji"
      }
    },
    {
      "cell_type": "code",
      "source": [
        "\n",
        "# Assuming you want to plot the distribution of flights over time\n",
        "plt.figure(figsize=(10, 6))  # Set the figure size\n",
        "\n",
        "# Assuming 'datetime' is a column containing the datetime information of flights\n",
        "df['flight'].value_counts().sort_index().plot(kind='line')\n",
        "\n",
        "# Add title and labels\n",
        "plt.title('Distribution of Flights')\n",
        "plt.xlabel('flight')\n",
        "plt.ylabel('Number of Flights')\n",
        "\n",
        "# Show the plot\n",
        "plt.grid(True)  # Add grid lines\n",
        "plt.tight_layout()\n",
        "plt.show()\n"
      ],
      "metadata": {
        "id": "kxFx3bSTB6Ds"
      },
      "execution_count": null,
      "outputs": []
    },
    {
      "cell_type": "code",
      "source": [
        "\n",
        "sg_8264_data = df[df['flight'] == 'SG-8264']\n",
        "\n"
      ],
      "metadata": {
        "id": "J6A7KkbXEhL4"
      },
      "execution_count": null,
      "outputs": []
    },
    {
      "cell_type": "code",
      "source": [
        "airline_of_sg_8264 = sg_8264_data['airline']"
      ],
      "metadata": {
        "id": "FD56jVZoISAr"
      },
      "execution_count": null,
      "outputs": []
    },
    {
      "cell_type": "code",
      "source": [
        "airline_of_sg_8264.unique()"
      ],
      "metadata": {
        "id": "Q_hXQgtvIsRj"
      },
      "execution_count": null,
      "outputs": []
    },
    {
      "cell_type": "code",
      "source": [
        "sns.barplot(data=df, x='dep_time', y='price', color='pink')"
      ],
      "metadata": {
        "id": "bPmA3nxZL08Q"
      },
      "execution_count": null,
      "outputs": []
    },
    {
      "cell_type": "code",
      "source": [],
      "metadata": {
        "id": "gzT22hAoF4qh"
      },
      "execution_count": null,
      "outputs": []
    },
    {
      "cell_type": "markdown",
      "source": [
        "#####When observing the relationship between departure time and price, it is evident that the maximum price occurs at night, while the prices are lower late at night."
      ],
      "metadata": {
        "id": "qzogH8dnPmoF"
      }
    },
    {
      "cell_type": "code",
      "source": [
        "sns.barplot(data=df, x='arr_time', y='price')\n"
      ],
      "metadata": {
        "id": "iSXgssyeOr1a"
      },
      "execution_count": null,
      "outputs": []
    },
    {
      "cell_type": "markdown",
      "source": [
        "#####The price is higher when flights arrive in the evening, night, and morning"
      ],
      "metadata": {
        "id": "9Unjyi_1LCx3"
      }
    },
    {
      "cell_type": "markdown",
      "source": [
        "#Outlier Treatment"
      ],
      "metadata": {
        "id": "ShOI4T0GGOmr"
      }
    },
    {
      "cell_type": "code",
      "source": [
        "def cap_outliers(df,column):\n",
        "  Q1=df[column].quantile(0.25)\n",
        "  Q3=df[column].quantile(0.75)\n",
        "  IQR=Q3-Q1\n",
        "  Upper_limit=Q3+1.5*IQR\n",
        "  Lower_limit=Q1-1.5*IQR\n",
        "\n",
        "  df.loc[df[column]>Upper_limit,column]=Upper_limit\n",
        "  df.loc[df[column]<Lower_limit]=Lower_limit\n",
        "\n",
        "cap_outliers(df,'price')\n"
      ],
      "metadata": {
        "id": "oGr-bO2oXJH6"
      },
      "execution_count": null,
      "outputs": []
    },
    {
      "cell_type": "code",
      "source": [
        "cap_outliers(df,'duration')"
      ],
      "metadata": {
        "id": "dzZ8YBGrYrpL"
      },
      "execution_count": null,
      "outputs": []
    },
    {
      "cell_type": "code",
      "source": [
        "#function for finding out outliers\n",
        "def find_outliers(df,column):\n",
        "  Q1=df[column].quantile(0.25)\n",
        "  Q3=df[column].quantile(0.75)\n",
        "  IQR=Q3-Q1\n",
        "  Upper_End=Q3+1.5*IQR\n",
        "  Lower_End=Q1-1.5*IQR\n",
        "\n",
        "  outlier=df[column][(df[column]>Upper_End)| (df[column]<Lower_End) ]\n",
        "\n",
        "  return outlier"
      ],
      "metadata": {
        "id": "90758EtVXJXO"
      },
      "execution_count": null,
      "outputs": []
    },
    {
      "cell_type": "code",
      "source": [
        "for column in ['price','duration']:\n",
        "  print('\\n Outliers in column \"%s\"' %column)\n",
        "\n",
        "  outlier= find_outliers(df,column)\n",
        "  print(outlier)"
      ],
      "metadata": {
        "id": "YuZU_nQoXJZ0"
      },
      "execution_count": null,
      "outputs": []
    },
    {
      "cell_type": "code",
      "source": [
        "df.head()"
      ],
      "metadata": {
        "id": "JYV2rJVrXJmH"
      },
      "execution_count": null,
      "outputs": []
    },
    {
      "cell_type": "code",
      "source": [
        "df.columns"
      ],
      "metadata": {
        "id": "0WV1CtXaXJv9"
      },
      "execution_count": null,
      "outputs": []
    },
    {
      "cell_type": "markdown",
      "source": [
        "# Convert categorical variable into numerical"
      ],
      "metadata": {
        "id": "HLpNXy3gM8Nr"
      }
    },
    {
      "cell_type": "code",
      "source": [
        "!pip install --upgrade category_encoders"
      ],
      "metadata": {
        "id": "WLMu1142SJnK"
      },
      "execution_count": null,
      "outputs": []
    },
    {
      "cell_type": "code",
      "source": [
        "import category_encoders as ce"
      ],
      "metadata": {
        "id": "nOHHcgk2Q8yP"
      },
      "execution_count": null,
      "outputs": []
    },
    {
      "cell_type": "code",
      "source": [
        "# List of columns containing categorical data\n",
        "\n",
        "\n",
        "columns_to_encode = ['airline', 'flight', 'source_city', 'dep_time', 'stops', 'arr_time', 'des_city','class']\n",
        "\n",
        "te = ce.TargetEncoder(cols=columns_to_encode )\n",
        "df = te.fit_transform(df, df['price'])\n"
      ],
      "metadata": {
        "id": "9nJiwdzMXJzX"
      },
      "execution_count": null,
      "outputs": []
    },
    {
      "cell_type": "code",
      "source": [
        "df.head()"
      ],
      "metadata": {
        "id": "wVhnFjttK4i7"
      },
      "execution_count": null,
      "outputs": []
    },
    {
      "cell_type": "code",
      "source": [
        "from sklearn.preprocessing import MinMaxScaler\n"
      ],
      "metadata": {
        "id": "hAcQsXidSm2h"
      },
      "execution_count": null,
      "outputs": []
    },
    {
      "cell_type": "code",
      "source": [
        "scaler=MinMaxScaler()\n",
        "df_scaled=scaler.fit_transform(df)\n",
        "\n"
      ],
      "metadata": {
        "id": "nHpe-bweSm-o"
      },
      "execution_count": null,
      "outputs": []
    },
    {
      "cell_type": "code",
      "source": [
        "df_scaled = pd.DataFrame(df_scaled,columns=df.columns)"
      ],
      "metadata": {
        "id": "gtVyHbyjSnA7"
      },
      "execution_count": null,
      "outputs": []
    },
    {
      "cell_type": "code",
      "source": [
        "df_scaled.head()"
      ],
      "metadata": {
        "id": "f9CuL7xSSnEl"
      },
      "execution_count": null,
      "outputs": []
    },
    {
      "cell_type": "code",
      "source": [
        "plt.figure(figsize=(10,5))\n",
        "sns.heatmap(df_scaled.corr(),annot=True)"
      ],
      "metadata": {
        "id": "j4Nq-R3Q-Kdj"
      },
      "execution_count": null,
      "outputs": []
    },
    {
      "cell_type": "markdown",
      "source": [
        "#####The 'airline' and 'flight' variables are highly correlated. To avoid collinearity, we will drop the 'flight' variable."
      ],
      "metadata": {
        "id": "CQR8pi_D_nv2"
      }
    },
    {
      "cell_type": "code",
      "source": [
        "df_scaled=df_scaled.drop('flight',axis=1)"
      ],
      "metadata": {
        "id": "eg3HzGcVA3E6"
      },
      "execution_count": null,
      "outputs": []
    },
    {
      "cell_type": "markdown",
      "source": [
        "# Model Building"
      ],
      "metadata": {
        "id": "pjpfatbj7gj0"
      }
    },
    {
      "cell_type": "code",
      "source": [
        "X=df_scaled.drop('price',axis=1)\n",
        "Y=df['price']"
      ],
      "metadata": {
        "id": "WCytARHqN8CA"
      },
      "execution_count": null,
      "outputs": []
    },
    {
      "cell_type": "code",
      "source": [
        "X.shape,Y.shape"
      ],
      "metadata": {
        "id": "y6DMW6CdN8J1"
      },
      "execution_count": null,
      "outputs": []
    },
    {
      "cell_type": "markdown",
      "source": [
        "###Linear Regression Model"
      ],
      "metadata": {
        "id": "BcrI0Q3L8Prr"
      }
    },
    {
      "cell_type": "code",
      "source": [
        "x_train,x_test,y_train,y_test = train_test_split(X,Y,test_size=0.2,random_state=42)"
      ],
      "metadata": {
        "id": "5IcOajVFN8QD"
      },
      "execution_count": null,
      "outputs": []
    },
    {
      "cell_type": "code",
      "source": [
        "x_train.shape,y_train.shape,x_test.shape,y_test.shape"
      ],
      "metadata": {
        "id": "Dqe3Vx9LN8TL"
      },
      "execution_count": null,
      "outputs": []
    },
    {
      "cell_type": "code",
      "source": [
        "#Build model m1 using all features\n",
        "m1=sm.OLS(y_train,sm.add_constant(x_train)).fit()"
      ],
      "metadata": {
        "id": "qU1XNdKlN8Wl"
      },
      "execution_count": null,
      "outputs": []
    },
    {
      "cell_type": "code",
      "source": [
        "#Select the top 5 features based on coefficient magnitude\n",
        "top_features = m1.params.abs().nlargest(5).sort_index()"
      ],
      "metadata": {
        "id": "-kJ_dEgaEEJa"
      },
      "execution_count": null,
      "outputs": []
    },
    {
      "cell_type": "code",
      "source": [
        "#Build model m2 using 5 top features\n",
        "m2=sm.OLS(y_train,sm.add_constant(x_train[top_features.index.tolist()])).fit()\n",
        "\n"
      ],
      "metadata": {
        "id": "BDavRwORN8aO"
      },
      "execution_count": null,
      "outputs": []
    },
    {
      "cell_type": "code",
      "source": [
        "#Compare performance of m1 and m2\n",
        "print('Performance m1')\n",
        "print(m1.summary())\n",
        "\n",
        "print(\"\\n\")\n",
        "\n",
        "print('Performance m2')\n",
        "print(m2.summary())"
      ],
      "metadata": {
        "id": "3ZUPV_NZN8dm"
      },
      "execution_count": null,
      "outputs": []
    },
    {
      "cell_type": "markdown",
      "source": [
        "##### There are no significant changes in the values of R-squared (R2) and Adjusted R-squared (R2), it suggests that the top 5 features selected based on coefficient magnitude have similar predictive power to using all the features.\n"
      ],
      "metadata": {
        "id": "mnmOsaxpNqZY"
      }
    },
    {
      "cell_type": "code",
      "source": [],
      "metadata": {
        "id": "zad6K86UN8gN"
      },
      "execution_count": null,
      "outputs": []
    },
    {
      "cell_type": "markdown",
      "source": [
        "# Linear regression sklearn library"
      ],
      "metadata": {
        "id": "_d-lMNQDS0j_"
      }
    },
    {
      "cell_type": "code",
      "source": [
        "from sklearn.linear_model import LinearRegression\n",
        "from sklearn.metrics import r2_score"
      ],
      "metadata": {
        "id": "C7fAzaXaN8md"
      },
      "execution_count": null,
      "outputs": []
    },
    {
      "cell_type": "code",
      "source": [
        "m3=LinearRegression()\n",
        "m3.fit(x_train,y_train)\n",
        "\n",
        "# traain the model\n",
        "y_pred=m3.predict(x_test)\n",
        "\n",
        "# Evaluate model\n",
        "r_squared = r2_score(y_test,y_pred)\n",
        "print(\"R-squared (R2) score:\", r_squared)"
      ],
      "metadata": {
        "id": "bPeg1oSGN8p2"
      },
      "execution_count": null,
      "outputs": []
    },
    {
      "cell_type": "code",
      "source": [],
      "metadata": {
        "id": "iubtILI0N8vk"
      },
      "execution_count": null,
      "outputs": []
    },
    {
      "cell_type": "code",
      "source": [],
      "metadata": {
        "id": "1B9Z2VSvN8y9"
      },
      "execution_count": null,
      "outputs": []
    },
    {
      "cell_type": "code",
      "source": [
        "numerical_columns=df.select_dtypes(include=['float64','int64']).columns.tolist()\n",
        "numerical_columns"
      ],
      "metadata": {
        "id": "CgrQmcOQ5no_"
      },
      "execution_count": null,
      "outputs": []
    },
    {
      "cell_type": "code",
      "source": [
        "categorical_columns\n",
        "print(f\"Categorical columns:\\n{categorical_columns}\")"
      ],
      "metadata": {
        "id": "wWWHbNnV9Jll"
      },
      "execution_count": null,
      "outputs": []
    }
  ]
}